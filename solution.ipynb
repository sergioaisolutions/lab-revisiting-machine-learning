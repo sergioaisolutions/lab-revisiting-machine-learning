{
 "cells": [
  {
   "cell_type": "markdown",
   "source": [
    "## IMPORTING THE REQUIRED LIBRARIES"
   ],
   "metadata": {}
  },
  {
   "cell_type": "code",
   "execution_count": 1,
   "source": [
    "import numpy as np\r\n",
    "import pandas as pd\r\n",
    "from IPython import display"
   ],
   "outputs": [],
   "metadata": {}
  },
  {
   "cell_type": "markdown",
   "source": [
    "## DISABLING THE MAX COLUMNS OPTION FROM THE PANDAS LIBRARY"
   ],
   "metadata": {}
  },
  {
   "cell_type": "code",
   "execution_count": 2,
   "source": [
    "pd.set_option('max_columns', None)"
   ],
   "outputs": [],
   "metadata": {}
  },
  {
   "cell_type": "markdown",
   "source": [
    "## IMPORTING THE DATA"
   ],
   "metadata": {}
  },
  {
   "cell_type": "code",
   "execution_count": 3,
   "source": [
    "data = pd.read_csv('data.csv', low_memory = False)"
   ],
   "outputs": [],
   "metadata": {}
  },
  {
   "cell_type": "markdown",
   "source": [
    "## CHECKING NULL VALUES IN ALL THE COLUMNS"
   ],
   "metadata": {}
  },
  {
   "cell_type": "code",
   "execution_count": 4,
   "source": [
    "columns_nan_values = pd.DataFrame()\r\n",
    "columns, nan_values = list(), list()\r\n",
    "\r\n",
    "for column in data.columns:\r\n",
    "    if data[column].isna().mean() > 0:\r\n",
    "        nan_values.append(data[column].isna().mean())\r\n",
    "        columns.append(column)\r\n",
    "\r\n",
    "columns_nan_values['column'] = columns\r\n",
    "columns_nan_values['nan_values'] = nan_values"
   ],
   "outputs": [],
   "metadata": {}
  },
  {
   "cell_type": "markdown",
   "source": [
    "## DISPLAYING THE COLUMNS WITH NAN VALUES"
   ],
   "metadata": {}
  },
  {
   "cell_type": "code",
   "execution_count": 5,
   "source": [
    "print('COLUMNS WITH NAN VALUES')\r\n",
    "print('-----------------------')\r\n",
    "display.display(columns_nan_values)"
   ],
   "outputs": [
    {
     "output_type": "stream",
     "name": "stdout",
     "text": [
      "COLUMNS WITH NAN VALUES\n",
      "-----------------------\n"
     ]
    },
    {
     "output_type": "display_data",
     "data": {
      "text/html": [
       "<div>\n",
       "<style scoped>\n",
       "    .dataframe tbody tr th:only-of-type {\n",
       "        vertical-align: middle;\n",
       "    }\n",
       "\n",
       "    .dataframe tbody tr th {\n",
       "        vertical-align: top;\n",
       "    }\n",
       "\n",
       "    .dataframe thead th {\n",
       "        text-align: right;\n",
       "    }\n",
       "</style>\n",
       "<table border=\"1\" class=\"dataframe\">\n",
       "  <thead>\n",
       "    <tr style=\"text-align: right;\">\n",
       "      <th></th>\n",
       "      <th>column</th>\n",
       "      <th>nan_values</th>\n",
       "    </tr>\n",
       "  </thead>\n",
       "  <tbody>\n",
       "    <tr>\n",
       "      <th>0</th>\n",
       "      <td>AGE</td>\n",
       "      <td>0.248030</td>\n",
       "    </tr>\n",
       "    <tr>\n",
       "      <th>1</th>\n",
       "      <td>NUMCHLD</td>\n",
       "      <td>0.870184</td>\n",
       "    </tr>\n",
       "    <tr>\n",
       "      <th>2</th>\n",
       "      <td>INCOME</td>\n",
       "      <td>0.223096</td>\n",
       "    </tr>\n",
       "    <tr>\n",
       "      <th>3</th>\n",
       "      <td>WEALTH1</td>\n",
       "      <td>0.468830</td>\n",
       "    </tr>\n",
       "    <tr>\n",
       "      <th>4</th>\n",
       "      <td>MBCRAFT</td>\n",
       "      <td>0.553955</td>\n",
       "    </tr>\n",
       "    <tr>\n",
       "      <th>...</th>\n",
       "      <td>...</td>\n",
       "      <td>...</td>\n",
       "    </tr>\n",
       "    <tr>\n",
       "      <th>87</th>\n",
       "      <td>RAMNT_24</td>\n",
       "      <td>0.814090</td>\n",
       "    </tr>\n",
       "    <tr>\n",
       "      <th>88</th>\n",
       "      <td>NEXTDATE</td>\n",
       "      <td>0.104526</td>\n",
       "    </tr>\n",
       "    <tr>\n",
       "      <th>89</th>\n",
       "      <td>TIMELAG</td>\n",
       "      <td>0.104526</td>\n",
       "    </tr>\n",
       "    <tr>\n",
       "      <th>90</th>\n",
       "      <td>CLUSTER2</td>\n",
       "      <td>0.001383</td>\n",
       "    </tr>\n",
       "    <tr>\n",
       "      <th>91</th>\n",
       "      <td>GEOCODE2</td>\n",
       "      <td>0.001383</td>\n",
       "    </tr>\n",
       "  </tbody>\n",
       "</table>\n",
       "<p>92 rows × 2 columns</p>\n",
       "</div>"
      ],
      "text/plain": [
       "      column  nan_values\n",
       "0        AGE    0.248030\n",
       "1    NUMCHLD    0.870184\n",
       "2     INCOME    0.223096\n",
       "3    WEALTH1    0.468830\n",
       "4    MBCRAFT    0.553955\n",
       "..       ...         ...\n",
       "87  RAMNT_24    0.814090\n",
       "88  NEXTDATE    0.104526\n",
       "89   TIMELAG    0.104526\n",
       "90  CLUSTER2    0.001383\n",
       "91  GEOCODE2    0.001383\n",
       "\n",
       "[92 rows x 2 columns]"
      ]
     },
     "metadata": {}
    }
   ],
   "metadata": {}
  },
  {
   "cell_type": "markdown",
   "source": [
    "## CREATING A LIST THAT IS GOING TO HAVE THE COLUMNS THAT WE ARE GOING TO DROP"
   ],
   "metadata": {}
  },
  {
   "cell_type": "code",
   "execution_count": 6,
   "source": [
    "to_drop_columns = list()"
   ],
   "outputs": [],
   "metadata": {}
  },
  {
   "cell_type": "markdown",
   "source": [
    "## APPENDING INSIDE THE COLUMNS TO DROP LIST THE COLUMNS OSOURCE AND ZIP CODE"
   ],
   "metadata": {}
  },
  {
   "cell_type": "code",
   "execution_count": 7,
   "source": [
    "to_drop_columns.append('ZIP')\r\n",
    "to_drop_columns.append('OSOURCE')"
   ],
   "outputs": [],
   "metadata": {}
  },
  {
   "cell_type": "markdown",
   "source": [
    "## APPENDING INSIDE THE COLUMNS TO DROP LIST THE COLUMNS WITH MORE THAN 0.85 OF NAN VALUES"
   ],
   "metadata": {}
  },
  {
   "cell_type": "code",
   "execution_count": 8,
   "source": [
    "for column in data.columns:\r\n",
    "    if data[column].isna().mean() > 0.85:\r\n",
    "        if column not in to_drop_columns:\r\n",
    "            to_drop_columns.append(column)"
   ],
   "outputs": [],
   "metadata": {}
  },
  {
   "cell_type": "markdown",
   "source": [
    "## REMOVING ALL THE COLUMNS INSIDE THE COLUMNS TO DROP LIST FROM THE DATAFRAME"
   ],
   "metadata": {}
  },
  {
   "cell_type": "code",
   "execution_count": 9,
   "source": [
    "data = data.drop(columns = to_drop_columns)"
   ],
   "outputs": [],
   "metadata": {}
  },
  {
   "cell_type": "markdown",
   "source": [
    "## FILLING THE NAN VALUES OF THE GENDER COLUMN WITH THE F VALUE"
   ],
   "metadata": {}
  },
  {
   "cell_type": "code",
   "execution_count": 10,
   "source": [
    "data['GENDER'] = data['GENDER'].fillna('F')"
   ],
   "outputs": [],
   "metadata": {}
  },
  {
   "cell_type": "markdown",
   "source": [
    "## REDUCING THE NUMBER OF CATEGORIES IN THE GENDER COLUMN"
   ],
   "metadata": {}
  },
  {
   "cell_type": "code",
   "execution_count": 11,
   "source": [
    "def not_male_female(gender):\r\n",
    "\r\n",
    "    if gender == 'F':\r\n",
    "        return 'F'\r\n",
    "\r\n",
    "    elif gender == 'M':\r\n",
    "        return 'M'\r\n",
    "\r\n",
    "    else:\r\n",
    "        return 'OTHER'\r\n",
    "\r\n",
    "data['GENDER'] = data['GENDER'].apply(not_male_female)"
   ],
   "outputs": [],
   "metadata": {}
  },
  {
   "cell_type": "markdown",
   "source": [
    "## CHECKING THE NAN VALUES IN THE NUMERICAL COLUMNS"
   ],
   "metadata": {}
  },
  {
   "cell_type": "code",
   "execution_count": 12,
   "source": [
    "numerical = data.select_dtypes(include = np.number)\r\n",
    "numerical_nan = pd.DataFrame(data = numerical.isna().sum().values.tolist(), \r\n",
    "                             index = numerical.isna().sum().index.tolist(),\r\n",
    "                             columns = ['nan_values'])\r\n",
    "\r\n",
    "numerical_nan[numerical_nan['nan_values'] > 0].transpose()"
   ],
   "outputs": [
    {
     "output_type": "execute_result",
     "data": {
      "text/html": [
       "<div>\n",
       "<style scoped>\n",
       "    .dataframe tbody tr th:only-of-type {\n",
       "        vertical-align: middle;\n",
       "    }\n",
       "\n",
       "    .dataframe tbody tr th {\n",
       "        vertical-align: top;\n",
       "    }\n",
       "\n",
       "    .dataframe thead th {\n",
       "        text-align: right;\n",
       "    }\n",
       "</style>\n",
       "<table border=\"1\" class=\"dataframe\">\n",
       "  <thead>\n",
       "    <tr style=\"text-align: right;\">\n",
       "      <th></th>\n",
       "      <th>AGE</th>\n",
       "      <th>INCOME</th>\n",
       "      <th>WEALTH1</th>\n",
       "      <th>MBCRAFT</th>\n",
       "      <th>MBGARDEN</th>\n",
       "      <th>MBBOOKS</th>\n",
       "      <th>MBCOLECT</th>\n",
       "      <th>MAGFAML</th>\n",
       "      <th>MAGFEM</th>\n",
       "      <th>MAGMALE</th>\n",
       "      <th>PUBGARDN</th>\n",
       "      <th>PUBCULIN</th>\n",
       "      <th>PUBHLTH</th>\n",
       "      <th>PUBDOITY</th>\n",
       "      <th>PUBNEWFN</th>\n",
       "      <th>PUBPHOTO</th>\n",
       "      <th>PUBOPP</th>\n",
       "      <th>WEALTH2</th>\n",
       "      <th>MSA</th>\n",
       "      <th>ADI</th>\n",
       "      <th>DMA</th>\n",
       "      <th>ADATE_3</th>\n",
       "      <th>ADATE_4</th>\n",
       "      <th>ADATE_5</th>\n",
       "      <th>ADATE_6</th>\n",
       "      <th>ADATE_7</th>\n",
       "      <th>ADATE_8</th>\n",
       "      <th>ADATE_9</th>\n",
       "      <th>ADATE_10</th>\n",
       "      <th>ADATE_11</th>\n",
       "      <th>ADATE_12</th>\n",
       "      <th>ADATE_13</th>\n",
       "      <th>ADATE_14</th>\n",
       "      <th>ADATE_15</th>\n",
       "      <th>ADATE_16</th>\n",
       "      <th>ADATE_17</th>\n",
       "      <th>ADATE_18</th>\n",
       "      <th>ADATE_19</th>\n",
       "      <th>ADATE_20</th>\n",
       "      <th>ADATE_21</th>\n",
       "      <th>ADATE_22</th>\n",
       "      <th>ADATE_23</th>\n",
       "      <th>ADATE_24</th>\n",
       "      <th>RDATE_8</th>\n",
       "      <th>RDATE_9</th>\n",
       "      <th>RDATE_11</th>\n",
       "      <th>RDATE_12</th>\n",
       "      <th>RDATE_14</th>\n",
       "      <th>RDATE_16</th>\n",
       "      <th>RDATE_18</th>\n",
       "      <th>RDATE_19</th>\n",
       "      <th>RDATE_22</th>\n",
       "      <th>RDATE_24</th>\n",
       "      <th>RAMNT_8</th>\n",
       "      <th>RAMNT_9</th>\n",
       "      <th>RAMNT_11</th>\n",
       "      <th>RAMNT_12</th>\n",
       "      <th>RAMNT_14</th>\n",
       "      <th>RAMNT_16</th>\n",
       "      <th>RAMNT_18</th>\n",
       "      <th>RAMNT_19</th>\n",
       "      <th>RAMNT_22</th>\n",
       "      <th>RAMNT_24</th>\n",
       "      <th>NEXTDATE</th>\n",
       "      <th>TIMELAG</th>\n",
       "      <th>CLUSTER2</th>\n",
       "    </tr>\n",
       "  </thead>\n",
       "  <tbody>\n",
       "    <tr>\n",
       "      <th>nan_values</th>\n",
       "      <td>23665</td>\n",
       "      <td>21286</td>\n",
       "      <td>44732</td>\n",
       "      <td>52854</td>\n",
       "      <td>52854</td>\n",
       "      <td>52854</td>\n",
       "      <td>52914</td>\n",
       "      <td>52854</td>\n",
       "      <td>52854</td>\n",
       "      <td>52854</td>\n",
       "      <td>52854</td>\n",
       "      <td>52854</td>\n",
       "      <td>52854</td>\n",
       "      <td>52854</td>\n",
       "      <td>52854</td>\n",
       "      <td>52854</td>\n",
       "      <td>52854</td>\n",
       "      <td>43823</td>\n",
       "      <td>132</td>\n",
       "      <td>132</td>\n",
       "      <td>132</td>\n",
       "      <td>1950</td>\n",
       "      <td>2191</td>\n",
       "      <td>33590</td>\n",
       "      <td>3557</td>\n",
       "      <td>8874</td>\n",
       "      <td>3511</td>\n",
       "      <td>11245</td>\n",
       "      <td>32748</td>\n",
       "      <td>10422</td>\n",
       "      <td>8923</td>\n",
       "      <td>40219</td>\n",
       "      <td>18867</td>\n",
       "      <td>65477</td>\n",
       "      <td>20364</td>\n",
       "      <td>27650</td>\n",
       "      <td>21263</td>\n",
       "      <td>24480</td>\n",
       "      <td>50200</td>\n",
       "      <td>35212</td>\n",
       "      <td>25648</td>\n",
       "      <td>56270</td>\n",
       "      <td>36973</td>\n",
       "      <td>73940</td>\n",
       "      <td>78678</td>\n",
       "      <td>80672</td>\n",
       "      <td>69712</td>\n",
       "      <td>72095</td>\n",
       "      <td>68418</td>\n",
       "      <td>75634</td>\n",
       "      <td>79535</td>\n",
       "      <td>74539</td>\n",
       "      <td>77674</td>\n",
       "      <td>73940</td>\n",
       "      <td>78678</td>\n",
       "      <td>80672</td>\n",
       "      <td>69712</td>\n",
       "      <td>72095</td>\n",
       "      <td>68418</td>\n",
       "      <td>75634</td>\n",
       "      <td>79535</td>\n",
       "      <td>74539</td>\n",
       "      <td>77674</td>\n",
       "      <td>9973</td>\n",
       "      <td>9973</td>\n",
       "      <td>132</td>\n",
       "    </tr>\n",
       "  </tbody>\n",
       "</table>\n",
       "</div>"
      ],
      "text/plain": [
       "              AGE  INCOME  WEALTH1  MBCRAFT  MBGARDEN  MBBOOKS  MBCOLECT  \\\n",
       "nan_values  23665   21286    44732    52854     52854    52854     52914   \n",
       "\n",
       "            MAGFAML  MAGFEM  MAGMALE  PUBGARDN  PUBCULIN  PUBHLTH  PUBDOITY  \\\n",
       "nan_values    52854   52854    52854     52854     52854    52854     52854   \n",
       "\n",
       "            PUBNEWFN  PUBPHOTO  PUBOPP  WEALTH2  MSA  ADI  DMA  ADATE_3  \\\n",
       "nan_values     52854     52854   52854    43823  132  132  132     1950   \n",
       "\n",
       "            ADATE_4  ADATE_5  ADATE_6  ADATE_7  ADATE_8  ADATE_9  ADATE_10  \\\n",
       "nan_values     2191    33590     3557     8874     3511    11245     32748   \n",
       "\n",
       "            ADATE_11  ADATE_12  ADATE_13  ADATE_14  ADATE_15  ADATE_16  \\\n",
       "nan_values     10422      8923     40219     18867     65477     20364   \n",
       "\n",
       "            ADATE_17  ADATE_18  ADATE_19  ADATE_20  ADATE_21  ADATE_22  \\\n",
       "nan_values     27650     21263     24480     50200     35212     25648   \n",
       "\n",
       "            ADATE_23  ADATE_24  RDATE_8  RDATE_9  RDATE_11  RDATE_12  \\\n",
       "nan_values     56270     36973    73940    78678     80672     69712   \n",
       "\n",
       "            RDATE_14  RDATE_16  RDATE_18  RDATE_19  RDATE_22  RDATE_24  \\\n",
       "nan_values     72095     68418     75634     79535     74539     77674   \n",
       "\n",
       "            RAMNT_8  RAMNT_9  RAMNT_11  RAMNT_12  RAMNT_14  RAMNT_16  \\\n",
       "nan_values    73940    78678     80672     69712     72095     68418   \n",
       "\n",
       "            RAMNT_18  RAMNT_19  RAMNT_22  RAMNT_24  NEXTDATE  TIMELAG  \\\n",
       "nan_values     75634     79535     74539     77674      9973     9973   \n",
       "\n",
       "            CLUSTER2  \n",
       "nan_values       132  "
      ]
     },
     "metadata": {},
     "execution_count": 12
    }
   ],
   "metadata": {}
  },
  {
   "cell_type": "markdown",
   "source": [
    "## CLEANING THE FOLLOWING GEOCODE2 COLUMN"
   ],
   "metadata": {}
  },
  {
   "cell_type": "code",
   "execution_count": 13,
   "source": [
    "data['GEOCODE2'] = data['GEOCODE2'].replace({' ': np.NaN})\r\n",
    "data['GEOCODE2'] = data['GEOCODE2'].fillna(data['GEOCODE2'].mode()[0])"
   ],
   "outputs": [],
   "metadata": {}
  },
  {
   "cell_type": "markdown",
   "source": [
    "## CLEANING THE FOLLOWING WEALTH1 COLUMN"
   ],
   "metadata": {}
  },
  {
   "cell_type": "code",
   "execution_count": 14,
   "source": [
    "data['WEALTH1'] = data['WEALTH1'].replace({' ': np.NaN})\r\n",
    "data['WEALTH1'] = data['WEALTH1'].fillna(data['WEALTH1'].mode()[0])"
   ],
   "outputs": [],
   "metadata": {}
  },
  {
   "cell_type": "markdown",
   "source": [
    "## CLEANING THE FOLLOWING ADI COLUMN"
   ],
   "metadata": {}
  },
  {
   "cell_type": "code",
   "execution_count": 16,
   "source": [
    "data['ADI'] = data['ADI'].fillna(np.ceil(data['ADI'].mean()))"
   ],
   "outputs": [],
   "metadata": {}
  },
  {
   "cell_type": "markdown",
   "source": [
    "## CLEANING THE FOLLOWING DMA COLUMN"
   ],
   "metadata": {}
  },
  {
   "cell_type": "code",
   "execution_count": 17,
   "source": [
    "data['DMA'] = data['DMA'].fillna(np.ceil(data['DMA'].mean()))"
   ],
   "outputs": [],
   "metadata": {}
  },
  {
   "cell_type": "markdown",
   "source": [
    "## CLEANING THE FOLLOWING MSA COLUMN"
   ],
   "metadata": {}
  },
  {
   "cell_type": "code",
   "execution_count": 18,
   "source": [
    "data['MSA'] = data['MSA'].fillna(np.ceil(data['MSA'].mean()))"
   ],
   "outputs": [],
   "metadata": {}
  }
 ],
 "metadata": {
  "orig_nbformat": 4,
  "language_info": {
   "name": "python",
   "version": "3.7.6",
   "mimetype": "text/x-python",
   "codemirror_mode": {
    "name": "ipython",
    "version": 3
   },
   "pygments_lexer": "ipython3",
   "nbconvert_exporter": "python",
   "file_extension": ".py"
  },
  "kernelspec": {
   "name": "python3",
   "display_name": "Python 3.7.6 64-bit ('ironhack_environment': venv)"
  },
  "interpreter": {
   "hash": "df81bf56b2521791aaa0ff1ac8d57256f917b61d33ad24d6b6d13191d105bbf2"
  }
 },
 "nbformat": 4,
 "nbformat_minor": 2
}
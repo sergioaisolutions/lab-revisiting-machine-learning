{
 "cells": [
  {
   "cell_type": "markdown",
   "source": [
    "## IMPORTING THE REQUIRED LIBRARIES"
   ],
   "metadata": {}
  },
  {
   "cell_type": "code",
   "execution_count": 13,
   "source": [
    "import numpy as np\r\n",
    "import pandas as pd\r\n",
    "from IPython import display"
   ],
   "outputs": [],
   "metadata": {}
  },
  {
   "cell_type": "markdown",
   "source": [
    "## IMPORTING THE DATA"
   ],
   "metadata": {}
  },
  {
   "cell_type": "code",
   "execution_count": 3,
   "source": [
    "data = pd.read_csv('data.csv', low_memory = False)"
   ],
   "outputs": [],
   "metadata": {}
  },
  {
   "cell_type": "markdown",
   "source": [
    "## CHECKING NULL VALUES IN ALL THE COLUMNS"
   ],
   "metadata": {}
  },
  {
   "cell_type": "code",
   "execution_count": 10,
   "source": [
    "columns_nan_values = pd.DataFrame()\r\n",
    "columns, nan_values = list(), list()\r\n",
    "\r\n",
    "for column in data.columns:\r\n",
    "    if data[column].isna().mean() > 0:\r\n",
    "        nan_values.append(data[column].isna().mean())\r\n",
    "        columns.append(column)\r\n",
    "\r\n",
    "columns_nan_values['column'] = columns\r\n",
    "columns_nan_values['nan_values'] = nan_values"
   ],
   "outputs": [],
   "metadata": {}
  },
  {
   "cell_type": "markdown",
   "source": [
    "## DISPLAYING THE COLUMNS WITH NAN VALUES"
   ],
   "metadata": {}
  },
  {
   "cell_type": "code",
   "execution_count": 17,
   "source": [
    "print('COLUMNS WITH NAN VALUES')\r\n",
    "print('-----------------------')\r\n",
    "display.display(columns_nan_values)"
   ],
   "outputs": [
    {
     "output_type": "stream",
     "name": "stdout",
     "text": [
      "COLUMNS WITH NAN VALUES\n",
      "-----------------------\n"
     ]
    },
    {
     "output_type": "display_data",
     "data": {
      "text/html": [
       "<div>\n",
       "<style scoped>\n",
       "    .dataframe tbody tr th:only-of-type {\n",
       "        vertical-align: middle;\n",
       "    }\n",
       "\n",
       "    .dataframe tbody tr th {\n",
       "        vertical-align: top;\n",
       "    }\n",
       "\n",
       "    .dataframe thead th {\n",
       "        text-align: right;\n",
       "    }\n",
       "</style>\n",
       "<table border=\"1\" class=\"dataframe\">\n",
       "  <thead>\n",
       "    <tr style=\"text-align: right;\">\n",
       "      <th></th>\n",
       "      <th>column</th>\n",
       "      <th>nan_values</th>\n",
       "    </tr>\n",
       "  </thead>\n",
       "  <tbody>\n",
       "    <tr>\n",
       "      <th>0</th>\n",
       "      <td>AGE</td>\n",
       "      <td>0.248030</td>\n",
       "    </tr>\n",
       "    <tr>\n",
       "      <th>1</th>\n",
       "      <td>NUMCHLD</td>\n",
       "      <td>0.870184</td>\n",
       "    </tr>\n",
       "    <tr>\n",
       "      <th>2</th>\n",
       "      <td>INCOME</td>\n",
       "      <td>0.223096</td>\n",
       "    </tr>\n",
       "    <tr>\n",
       "      <th>3</th>\n",
       "      <td>WEALTH1</td>\n",
       "      <td>0.468830</td>\n",
       "    </tr>\n",
       "    <tr>\n",
       "      <th>4</th>\n",
       "      <td>MBCRAFT</td>\n",
       "      <td>0.553955</td>\n",
       "    </tr>\n",
       "    <tr>\n",
       "      <th>...</th>\n",
       "      <td>...</td>\n",
       "      <td>...</td>\n",
       "    </tr>\n",
       "    <tr>\n",
       "      <th>87</th>\n",
       "      <td>RAMNT_24</td>\n",
       "      <td>0.814090</td>\n",
       "    </tr>\n",
       "    <tr>\n",
       "      <th>88</th>\n",
       "      <td>NEXTDATE</td>\n",
       "      <td>0.104526</td>\n",
       "    </tr>\n",
       "    <tr>\n",
       "      <th>89</th>\n",
       "      <td>TIMELAG</td>\n",
       "      <td>0.104526</td>\n",
       "    </tr>\n",
       "    <tr>\n",
       "      <th>90</th>\n",
       "      <td>CLUSTER2</td>\n",
       "      <td>0.001383</td>\n",
       "    </tr>\n",
       "    <tr>\n",
       "      <th>91</th>\n",
       "      <td>GEOCODE2</td>\n",
       "      <td>0.001383</td>\n",
       "    </tr>\n",
       "  </tbody>\n",
       "</table>\n",
       "<p>92 rows × 2 columns</p>\n",
       "</div>"
      ],
      "text/plain": [
       "      column  nan_values\n",
       "0        AGE    0.248030\n",
       "1    NUMCHLD    0.870184\n",
       "2     INCOME    0.223096\n",
       "3    WEALTH1    0.468830\n",
       "4    MBCRAFT    0.553955\n",
       "..       ...         ...\n",
       "87  RAMNT_24    0.814090\n",
       "88  NEXTDATE    0.104526\n",
       "89   TIMELAG    0.104526\n",
       "90  CLUSTER2    0.001383\n",
       "91  GEOCODE2    0.001383\n",
       "\n",
       "[92 rows x 2 columns]"
      ]
     },
     "metadata": {}
    }
   ],
   "metadata": {}
  },
  {
   "cell_type": "markdown",
   "source": [
    "## CREATING A LIST THAT IS GOING TO HAVE THE COLUMNS THAT WE ARE GOING TO DROP"
   ],
   "metadata": {}
  },
  {
   "cell_type": "code",
   "execution_count": 18,
   "source": [
    "to_drop_columns = list()"
   ],
   "outputs": [],
   "metadata": {}
  },
  {
   "cell_type": "markdown",
   "source": [
    "## APPENDING INSIDE THE COLUMNS TO DROP LIST THE COLUMNS OSOURCE AND ZIP CODE"
   ],
   "metadata": {}
  },
  {
   "cell_type": "code",
   "execution_count": 23,
   "source": [
    "to_drop_columns.append('ZIP')\r\n",
    "to_drop_columns.append('OSOURCE')"
   ],
   "outputs": [],
   "metadata": {}
  },
  {
   "cell_type": "markdown",
   "source": [
    "## APPENDING INSIDE THE COLUMNS TO DROP LIST THE COLUMNS WITH MORE THAN 0.85 OF NAN VALUES"
   ],
   "metadata": {}
  },
  {
   "cell_type": "code",
   "execution_count": 24,
   "source": [
    "for column in data.columns:\r\n",
    "    if data[column].isna().mean() > 0.85:\r\n",
    "        if column not in to_drop_columns:\r\n",
    "            to_drop_columns.append(column)"
   ],
   "outputs": [],
   "metadata": {}
  },
  {
   "cell_type": "markdown",
   "source": [
    "## REMOVING ALL THE COLUMNS INSIDE THE COLUMNS TO DROP LIST FROM THE DATAFRAME"
   ],
   "metadata": {}
  },
  {
   "cell_type": "code",
   "execution_count": 26,
   "source": [
    "data = data.drop(columns = to_drop_columns)"
   ],
   "outputs": [],
   "metadata": {}
  },
  {
   "cell_type": "markdown",
   "source": [
    "## FILLING THE NAN VALUES OF THE GENDER COLUMN WITH THE F VALUE"
   ],
   "metadata": {}
  },
  {
   "cell_type": "code",
   "execution_count": 27,
   "source": [
    "data['GENDER'] = data['GENDER'].fillna('F')"
   ],
   "outputs": [],
   "metadata": {}
  },
  {
   "cell_type": "markdown",
   "source": [
    "## REDUCING THE NUMBER OF CATEGORIES IN THE GENDER COLUMN"
   ],
   "metadata": {}
  },
  {
   "cell_type": "code",
   "execution_count": 30,
   "source": [
    "def not_male_female(gender):\r\n",
    "\r\n",
    "    if gender == 'F':\r\n",
    "        return 'F'\r\n",
    "\r\n",
    "    elif gender == 'M':\r\n",
    "        return 'M'\r\n",
    "\r\n",
    "    else:\r\n",
    "        return 'OTHER'\r\n",
    "\r\n",
    "data['GENDER'] = data['GENDER'].apply(not_male_female)"
   ],
   "outputs": [],
   "metadata": {}
  }
 ],
 "metadata": {
  "orig_nbformat": 4,
  "language_info": {
   "name": "python",
   "version": "3.7.6",
   "mimetype": "text/x-python",
   "codemirror_mode": {
    "name": "ipython",
    "version": 3
   },
   "pygments_lexer": "ipython3",
   "nbconvert_exporter": "python",
   "file_extension": ".py"
  },
  "kernelspec": {
   "name": "python3",
   "display_name": "Python 3.7.6 64-bit ('ironhack_environment': venv)"
  },
  "interpreter": {
   "hash": "df81bf56b2521791aaa0ff1ac8d57256f917b61d33ad24d6b6d13191d105bbf2"
  }
 },
 "nbformat": 4,
 "nbformat_minor": 2
}